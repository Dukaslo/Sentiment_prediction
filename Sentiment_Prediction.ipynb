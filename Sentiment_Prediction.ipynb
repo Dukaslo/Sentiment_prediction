{
 "cells": [
  {
   "cell_type": "code",
   "execution_count": 1,
   "id": "7fc68af0",
   "metadata": {},
   "outputs": [],
   "source": [
    "import pandas as pd\n",
    "import numpy as np\n",
    "import matplotlib.pyplot as plt\n",
    "import seaborn\n",
    "import warnings\n",
    "warnings.filterwarnings(\"ignore\")\n"
   ]
  },
  {
   "cell_type": "code",
   "execution_count": 2,
   "id": "b4e138ab",
   "metadata": {},
   "outputs": [
    {
     "data": {
      "text/html": [
       "<div>\n",
       "<style scoped>\n",
       "    .dataframe tbody tr th:only-of-type {\n",
       "        vertical-align: middle;\n",
       "    }\n",
       "\n",
       "    .dataframe tbody tr th {\n",
       "        vertical-align: top;\n",
       "    }\n",
       "\n",
       "    .dataframe thead th {\n",
       "        text-align: right;\n",
       "    }\n",
       "</style>\n",
       "<table border=\"1\" class=\"dataframe\">\n",
       "  <thead>\n",
       "    <tr style=\"text-align: right;\">\n",
       "      <th></th>\n",
       "      <th>review</th>\n",
       "      <th>sentiment</th>\n",
       "    </tr>\n",
       "  </thead>\n",
       "  <tbody>\n",
       "    <tr>\n",
       "      <th>0</th>\n",
       "      <td>One of the other reviewers has mentioned that ...</td>\n",
       "      <td>positive</td>\n",
       "    </tr>\n",
       "    <tr>\n",
       "      <th>1</th>\n",
       "      <td>A wonderful little production. &lt;br /&gt;&lt;br /&gt;The...</td>\n",
       "      <td>positive</td>\n",
       "    </tr>\n",
       "    <tr>\n",
       "      <th>2</th>\n",
       "      <td>I thought this was a wonderful way to spend ti...</td>\n",
       "      <td>positive</td>\n",
       "    </tr>\n",
       "    <tr>\n",
       "      <th>3</th>\n",
       "      <td>Basically there's a family where a little boy ...</td>\n",
       "      <td>negative</td>\n",
       "    </tr>\n",
       "    <tr>\n",
       "      <th>4</th>\n",
       "      <td>Petter Mattei's \"Love in the Time of Money\" is...</td>\n",
       "      <td>positive</td>\n",
       "    </tr>\n",
       "  </tbody>\n",
       "</table>\n",
       "</div>"
      ],
      "text/plain": [
       "                                              review sentiment\n",
       "0  One of the other reviewers has mentioned that ...  positive\n",
       "1  A wonderful little production. <br /><br />The...  positive\n",
       "2  I thought this was a wonderful way to spend ti...  positive\n",
       "3  Basically there's a family where a little boy ...  negative\n",
       "4  Petter Mattei's \"Love in the Time of Money\" is...  positive"
      ]
     },
     "execution_count": 2,
     "metadata": {},
     "output_type": "execute_result"
    }
   ],
   "source": [
    "df = pd.read_csv('IMDB Dataset.csv')\n",
    "df.head()"
   ]
  },
  {
   "cell_type": "markdown",
   "id": "01c41ae4",
   "metadata": {},
   "source": [
    "# Предобработка данных"
   ]
  },
  {
   "cell_type": "markdown",
   "id": "4044f105",
   "metadata": {},
   "source": [
    "### Токенизация и удаление стоп-слов "
   ]
  },
  {
   "cell_type": "code",
   "execution_count": 3,
   "id": "72ea59b9",
   "metadata": {},
   "outputs": [
    {
     "name": "stderr",
     "output_type": "stream",
     "text": [
      "[nltk_data] Downloading package stopwords to\n",
      "[nltk_data]     C:\\Users\\Даниил\\AppData\\Roaming\\nltk_data...\n",
      "[nltk_data]   Package stopwords is already up-to-date!\n"
     ]
    }
   ],
   "source": [
    "# загружаем стоп-слова для английского\n",
    "\n",
    "import nltk\n",
    "\n",
    "nltk.download('stopwords')\n",
    "stop_words = nltk.corpus.stopwords.words('english')"
   ]
  },
  {
   "cell_type": "code",
   "execution_count": 4,
   "id": "3f0e7268",
   "metadata": {},
   "outputs": [],
   "source": [
    "# иницализируем токенайзер\n",
    "\n",
    "word_tokenizer = nltk.WordPunctTokenizer()"
   ]
  },
  {
   "cell_type": "code",
   "execution_count": 5,
   "id": "a18f45f0",
   "metadata": {},
   "outputs": [],
   "source": [
    "# функция отбора слов \n",
    "\n",
    "import re\n",
    "regex = re.compile(r'[А-Яа-яA-zёЁ-]+')\n",
    "\n",
    "def words_only(text, regex=regex):\n",
    "    try:\n",
    "        return ' '.join(regex.findall(text)).lower()\n",
    "    except:\n",
    "        return ''"
   ]
  },
  {
   "cell_type": "code",
   "execution_count": 6,
   "id": "e1b456ba",
   "metadata": {},
   "outputs": [],
   "source": [
    "# функция первичной предобработки слов\n",
    "\n",
    "def process_data(data):\n",
    "    texts = []\n",
    "    targets = []\n",
    "    \n",
    "    # поочередно проходим по всем отзывам в списке\n",
    "    for item in data:\n",
    "        \n",
    "        text_lower = words_only(item) # оставим только слова\n",
    "        tokens = word_tokenizer.tokenize(text_lower)\n",
    "        \n",
    "        # удаляем пунктуацию и стоп-слова\n",
    "        tokens = [word for word in tokens if (word not in stop_words and not word.isnumeric())]\n",
    "        \n",
    "        texts.append(tokens) # добавляем в предобработанный список\n",
    "        \n",
    "    return texts"
   ]
  },
  {
   "cell_type": "code",
   "execution_count": 7,
   "id": "2dc62edf",
   "metadata": {},
   "outputs": [],
   "source": [
    "# запуск предобработки текста\n",
    "\n",
    "y = df['sentiment']\n",
    "texts = process_data(df['review'])"
   ]
  },
  {
   "cell_type": "code",
   "execution_count": 8,
   "id": "90bc4e0d",
   "metadata": {},
   "outputs": [
    {
     "name": "stdout",
     "output_type": "stream",
     "text": [
      "Настроение:  positive\n",
      "Слова:  ['wonderful', 'little', 'production', 'br', 'br']\n"
     ]
    }
   ],
   "source": [
    "# результат предобработки\n",
    "\n",
    "i = 1\n",
    "print('Настроение: ', y[i])\n",
    "print('Слова: ', texts[i][:5])"
   ]
  },
  {
   "cell_type": "markdown",
   "id": "1a06236e",
   "metadata": {},
   "source": [
    "### Нормализация слов "
   ]
  },
  {
   "cell_type": "markdown",
   "id": "e02f0462",
   "metadata": {},
   "source": [
    "Для английского языка применим стеминг"
   ]
  },
  {
   "cell_type": "code",
   "execution_count": 9,
   "id": "dabcfffb",
   "metadata": {},
   "outputs": [],
   "source": [
    "# инициализируем стеммер\n",
    "\n",
    "from nltk.stem.snowball import SnowballStemmer\n",
    "\n",
    "stemmer = SnowballStemmer('english')"
   ]
  },
  {
   "cell_type": "code",
   "execution_count": 10,
   "id": "20a0adde",
   "metadata": {},
   "outputs": [],
   "source": [
    "# применим стеммер ко всем текстам\n",
    "\n",
    "for i in range(len(texts)):\n",
    "    text_stemmer = [stemmer.stem(x) for x in texts[i]]\n",
    "    texts[i] = ' '.join(text_stemmer)\n",
    "    \n",
    "    # преобразуем обработанный список слов в приложение\n",
    "    \n",
    "    texts[i] = ' '.join(texts[i].split())"
   ]
  },
  {
   "cell_type": "code",
   "execution_count": 11,
   "id": "4161b52a",
   "metadata": {},
   "outputs": [
    {
     "name": "stdout",
     "output_type": "stream",
     "text": [
      "Настроение:  positive\n",
      "Обработанный текст:  wonder littl product br br film techniqu unassum - old - time - bbc fashion give comfort sometim discomfort sens realism entir piec br br actor extrem well chosen - michael sheen got polari voic pat truli see seamless edit guid refer william diari entri well worth watch terrif written perform piec master product one great master comedi life br br realism realli come home littl thing fantasi guard rather use tradit dream techniqu remain solid disappear play knowledg sens particular scene concern orton halliwel set particular flat halliwel mural decor everi surfac terribl well done\n"
     ]
    }
   ],
   "source": [
    "# посмотрим на результат\n",
    "\n",
    "i = 1\n",
    "print('Настроение: ', y[i])\n",
    "print('Обработанный текст: ', texts[i])"
   ]
  },
  {
   "cell_type": "markdown",
   "id": "e9256522",
   "metadata": {},
   "source": [
    "#  Разбиваем на train&test"
   ]
  },
  {
   "cell_type": "code",
   "execution_count": 19,
   "id": "e717e577",
   "metadata": {},
   "outputs": [
    {
     "data": {
      "text/plain": [
       "array(['positive', 'negative'], dtype=object)"
      ]
     },
     "execution_count": 19,
     "metadata": {},
     "output_type": "execute_result"
    }
   ],
   "source": [
    "df['sentiment'].unique()"
   ]
  },
  {
   "cell_type": "code",
   "execution_count": 20,
   "id": "37bd07c4",
   "metadata": {},
   "outputs": [],
   "source": [
    "# Закодируем лейблы 0 и 1 через функцию\n",
    "\n",
    "def label2num(y):\n",
    "    if y == 'positive':\n",
    "        return 1\n",
    "    if y == 'negative':\n",
    "        return 0\n",
    "    \n",
    "encoded_y = [label2num(yy) for yy in y]\n",
    "\n",
    "        "
   ]
  },
  {
   "cell_type": "code",
   "execution_count": 21,
   "id": "2fd9f43f",
   "metadata": {},
   "outputs": [],
   "source": [
    "# Разбиваем данные на train&test\n",
    "\n",
    "from sklearn.model_selection import train_test_split\n",
    "\n",
    "train_texts, test_texts, train_y, test_y = train_test_split(texts, encoded_y, test_size = 0.3,\n",
    "                                                           random_state = 17, stratify = y)"
   ]
  },
  {
   "cell_type": "markdown",
   "id": "9aa7a88a",
   "metadata": {},
   "source": [
    "# TF-IDF преобразование"
   ]
  },
  {
   "cell_type": "code",
   "execution_count": 54,
   "id": "a6d6cfe7",
   "metadata": {},
   "outputs": [
    {
     "data": {
      "text/plain": [
       "(50000, 2)"
      ]
     },
     "execution_count": 54,
     "metadata": {},
     "output_type": "execute_result"
    }
   ],
   "source": [
    "df.shape"
   ]
  },
  {
   "cell_type": "code",
   "execution_count": 55,
   "id": "81932a69",
   "metadata": {},
   "outputs": [
    {
     "data": {
      "text/html": [
       "<style>#sk-container-id-1 {color: black;background-color: white;}#sk-container-id-1 pre{padding: 0;}#sk-container-id-1 div.sk-toggleable {background-color: white;}#sk-container-id-1 label.sk-toggleable__label {cursor: pointer;display: block;width: 100%;margin-bottom: 0;padding: 0.3em;box-sizing: border-box;text-align: center;}#sk-container-id-1 label.sk-toggleable__label-arrow:before {content: \"▸\";float: left;margin-right: 0.25em;color: #696969;}#sk-container-id-1 label.sk-toggleable__label-arrow:hover:before {color: black;}#sk-container-id-1 div.sk-estimator:hover label.sk-toggleable__label-arrow:before {color: black;}#sk-container-id-1 div.sk-toggleable__content {max-height: 0;max-width: 0;overflow: hidden;text-align: left;background-color: #f0f8ff;}#sk-container-id-1 div.sk-toggleable__content pre {margin: 0.2em;color: black;border-radius: 0.25em;background-color: #f0f8ff;}#sk-container-id-1 input.sk-toggleable__control:checked~div.sk-toggleable__content {max-height: 200px;max-width: 100%;overflow: auto;}#sk-container-id-1 input.sk-toggleable__control:checked~label.sk-toggleable__label-arrow:before {content: \"▾\";}#sk-container-id-1 div.sk-estimator input.sk-toggleable__control:checked~label.sk-toggleable__label {background-color: #d4ebff;}#sk-container-id-1 div.sk-label input.sk-toggleable__control:checked~label.sk-toggleable__label {background-color: #d4ebff;}#sk-container-id-1 input.sk-hidden--visually {border: 0;clip: rect(1px 1px 1px 1px);clip: rect(1px, 1px, 1px, 1px);height: 1px;margin: -1px;overflow: hidden;padding: 0;position: absolute;width: 1px;}#sk-container-id-1 div.sk-estimator {font-family: monospace;background-color: #f0f8ff;border: 1px dotted black;border-radius: 0.25em;box-sizing: border-box;margin-bottom: 0.5em;}#sk-container-id-1 div.sk-estimator:hover {background-color: #d4ebff;}#sk-container-id-1 div.sk-parallel-item::after {content: \"\";width: 100%;border-bottom: 1px solid gray;flex-grow: 1;}#sk-container-id-1 div.sk-label:hover label.sk-toggleable__label {background-color: #d4ebff;}#sk-container-id-1 div.sk-serial::before {content: \"\";position: absolute;border-left: 1px solid gray;box-sizing: border-box;top: 0;bottom: 0;left: 50%;z-index: 0;}#sk-container-id-1 div.sk-serial {display: flex;flex-direction: column;align-items: center;background-color: white;padding-right: 0.2em;padding-left: 0.2em;position: relative;}#sk-container-id-1 div.sk-item {position: relative;z-index: 1;}#sk-container-id-1 div.sk-parallel {display: flex;align-items: stretch;justify-content: center;background-color: white;position: relative;}#sk-container-id-1 div.sk-item::before, #sk-container-id-1 div.sk-parallel-item::before {content: \"\";position: absolute;border-left: 1px solid gray;box-sizing: border-box;top: 0;bottom: 0;left: 50%;z-index: -1;}#sk-container-id-1 div.sk-parallel-item {display: flex;flex-direction: column;z-index: 1;position: relative;background-color: white;}#sk-container-id-1 div.sk-parallel-item:first-child::after {align-self: flex-end;width: 50%;}#sk-container-id-1 div.sk-parallel-item:last-child::after {align-self: flex-start;width: 50%;}#sk-container-id-1 div.sk-parallel-item:only-child::after {width: 0;}#sk-container-id-1 div.sk-dashed-wrapped {border: 1px dashed gray;margin: 0 0.4em 0.5em 0.4em;box-sizing: border-box;padding-bottom: 0.4em;background-color: white;}#sk-container-id-1 div.sk-label label {font-family: monospace;font-weight: bold;display: inline-block;line-height: 1.2em;}#sk-container-id-1 div.sk-label-container {text-align: center;}#sk-container-id-1 div.sk-container {/* jupyter's `normalize.less` sets `[hidden] { display: none; }` but bootstrap.min.css set `[hidden] { display: none !important; }` so we also need the `!important` here to be able to override the default hidden behavior on the sphinx rendered scikit-learn.org. See: https://github.com/scikit-learn/scikit-learn/issues/21755 */display: inline-block !important;position: relative;}#sk-container-id-1 div.sk-text-repr-fallback {display: none;}</style><div id=\"sk-container-id-1\" class=\"sk-top-container\"><div class=\"sk-text-repr-fallback\"><pre>TfidfVectorizer(max_features=5000, norm=None)</pre><b>In a Jupyter environment, please rerun this cell to show the HTML representation or trust the notebook. <br />On GitHub, the HTML representation is unable to render, please try loading this page with nbviewer.org.</b></div><div class=\"sk-container\" hidden><div class=\"sk-item\"><div class=\"sk-estimator sk-toggleable\"><input class=\"sk-toggleable__control sk-hidden--visually\" id=\"sk-estimator-id-1\" type=\"checkbox\" checked><label for=\"sk-estimator-id-1\" class=\"sk-toggleable__label sk-toggleable__label-arrow\">TfidfVectorizer</label><div class=\"sk-toggleable__content\"><pre>TfidfVectorizer(max_features=5000, norm=None)</pre></div></div></div></div></div>"
      ],
      "text/plain": [
       "TfidfVectorizer(max_features=5000, norm=None)"
      ]
     },
     "execution_count": 55,
     "metadata": {},
     "output_type": "execute_result"
    }
   ],
   "source": [
    "# инициализируем tf-idf\n",
    "\n",
    "from sklearn.feature_extraction.text import TfidfVectorizer\n",
    "\n",
    "vectorizer = TfidfVectorizer(max_features = 5000, norm = None) # возьмём топ 5000 слов\n",
    "vectorizer.fit(train_texts)"
   ]
  },
  {
   "cell_type": "code",
   "execution_count": 56,
   "id": "43c62fdb",
   "metadata": {},
   "outputs": [],
   "source": [
    "# Применим tf-idf преобразование\n",
    "\n",
    "train_X = vectorizer.fit_transform(train_texts)\n",
    "test_X = vectorizer.transform(test_texts)"
   ]
  },
  {
   "cell_type": "markdown",
   "id": "68a12b48",
   "metadata": {},
   "source": [
    "# Логистическая регрессия"
   ]
  },
  {
   "cell_type": "code",
   "execution_count": 57,
   "id": "4a9b9486",
   "metadata": {},
   "outputs": [],
   "source": [
    "# Метрики качества\n",
    "\n",
    "from sklearn.metrics import *\n",
    "\n",
    "def quality_report(prediction, actual):\n",
    "    print('Accuracy: {:.3f}\\nPrecision: {:.3f}\\nRecall: {:.3f}\\nf1_score: {:.3f}'.format( \n",
    "         accuracy_score(prediction, actual),\n",
    "         precision_score(prediction, actual),\n",
    "         recall_score(prediction, actual),\n",
    "         f1_score(prediction, actual)\n",
    "    ))"
   ]
  },
  {
   "cell_type": "code",
   "execution_count": 58,
   "id": "5daa441a",
   "metadata": {},
   "outputs": [],
   "source": [
    "def plot_roc_curve(prob_prediction, actual):\n",
    "    fpr, tprm, thresholds = roc_curve(actual, prob_prediction)\n",
    "    auc_score = roc_auc_score(actual, prob_prediction)\n",
    "    \n",
    "    plt.plot(fpr, tprm, label = 'ROC curve')\n",
    "    plt.plot([0, 1], [0, 1])\n",
    "    plt.xlim([0.0, 1.0])\n",
    "    plt.ylim([0.0, 1.05])\n",
    "    plt.xlabel('False Positive Rate')\n",
    "    plt.ylabel('True Positive Rate')\n",
    "    plt.title('ROC AUC: {:.3f}'.format(auc_score))\n",
    "    plt.show()"
   ]
  },
  {
   "cell_type": "code",
   "execution_count": 59,
   "id": "39d7a27d",
   "metadata": {},
   "outputs": [
    {
     "name": "stdout",
     "output_type": "stream",
     "text": [
      "Наилучшие параметры LogisticRegression {'C': 0.01, 'penalty': 'l2'}\n"
     ]
    }
   ],
   "source": [
    "# Обучаем линейную регрессию\n",
    "\n",
    "from sklearn.model_selection import GridSearchCV\n",
    "from sklearn.linear_model import LogisticRegression\n",
    "\n",
    "model = LogisticRegression(random_state = 17)\n",
    "\n",
    "grid_params = {'C': [0.01, 0.1, 1, 10, 100],\n",
    "              'penalty': ['l1', 'l2', 'elasticnet', 'none']}\n",
    "\n",
    "log_reg = GridSearchCV(model, \n",
    "                      grid_params,\n",
    "                      cv = 5,\n",
    "                      n_jobs = -1)\n",
    "\n",
    "log_reg.fit(train_X, train_y)\n",
    "\n",
    "print(f'Наилучшие параметры LogisticRegression {log_reg.best_params_}')"
   ]
  },
  {
   "cell_type": "code",
   "execution_count": 60,
   "id": "5f695c8a",
   "metadata": {},
   "outputs": [
    {
     "name": "stdout",
     "output_type": "stream",
     "text": [
      "Accuracy: 0.873\n",
      "Precision: 0.879\n",
      "Recall: 0.869\n",
      "f1_score: 0.874\n"
     ]
    }
   ],
   "source": [
    "# Предсказание модели и вывод качества\n",
    "\n",
    "log_reg_prediction = log_reg.best_estimator_.predict(test_X)\n",
    "\n",
    "quality_report(log_reg_prediction, test_y)"
   ]
  },
  {
   "cell_type": "code",
   "execution_count": 61,
   "id": "4fc333bf",
   "metadata": {},
   "outputs": [
    {
     "data": {
      "image/png": "[encoded data removed]",
      "text/plain": [
       "<Figure size 640x480 with 1 Axes>"
      ]
     },
     "metadata": {},
     "output_type": "display_data"
    }
   ],
   "source": [
    "# Вывод метрики ROC-AUC\n",
    "\n",
    "plot_roc_curve(log_reg.best_estimator_.predict_proba(test_X)[:, 1], test_y)"
   ]
  },
  {
   "cell_type": "markdown",
   "id": "df065e06",
   "metadata": {},
   "source": [
    "# Самые влиятельные коэффициенты регрессии"
   ]
  },
  {
   "cell_type": "code",
   "execution_count": 66,
   "id": "53456e41",
   "metadata": {},
   "outputs": [
    {
     "data": {
      "image/png": "[encoded data removed]",
      "text/plain": [
       "<Figure size 1500x700 with 1 Axes>"
      ]
     },
     "metadata": {},
     "output_type": "display_data"
    }
   ],
   "source": [
    "\n",
    "featureImportance = pd.DataFrame({'Слова': vectorizer.get_feature_names_out(),\n",
    "                                 'Важность': log_reg.best_estimator_.coef_[0]})\n",
    "\n",
    "featureImportance.set_index('Слова', inplace = True)\n",
    "featureImportance.sort_values(['Важность'], ascending = False, inplace = True)\n",
    "featureImportance['Важность'].head(50).plot(kind = 'bar', figsize = (15, 7));"
   ]
  },
  {
   "cell_type": "markdown",
   "id": "6d0f708e",
   "metadata": {},
   "source": [
    "Слова представленные на графике имеют большое влияние на настроение отзыва о фильме."
   ]
  }
 ],
 "metadata": {
  "kernelspec": {
   "display_name": "Python 3 (ipykernel)",
   "language": "python",
   "name": "python3"
  },
  "language_info": {
   "codemirror_mode": {
    "name": "ipython",
    "version": 3
   },
   "file_extension": ".py",
   "mimetype": "text/x-python",
   "name": "python",
   "nbconvert_exporter": "python",
   "pygments_lexer": "ipython3",
   "version": "3.10.9"
  }
 },
 "nbformat": 4,
 "nbformat_minor": 5
}
